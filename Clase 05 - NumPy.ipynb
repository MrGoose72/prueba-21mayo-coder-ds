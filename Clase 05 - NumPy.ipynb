{
 "cells": [
  {
   "cell_type": "code",
   "execution_count": 4,
   "id": "91868c81",
   "metadata": {},
   "outputs": [],
   "source": [
    "import numpy as np"
   ]
  },
  {
   "cell_type": "code",
   "execution_count": 15,
   "id": "89532d27",
   "metadata": {},
   "outputs": [
    {
     "data": {
      "text/plain": [
       "array([0, 1, 2, 3, 4, 5, 6, 7, 8, 9])"
      ]
     },
     "execution_count": 15,
     "metadata": {},
     "output_type": "execute_result"
    }
   ],
   "source": [
    "npa = np.array(range(10))\n",
    "npa"
   ]
  },
  {
   "cell_type": "code",
   "execution_count": 20,
   "id": "cee1003e",
   "metadata": {},
   "outputs": [
    {
     "data": {
      "text/plain": [
       "numpy.ndarray"
      ]
     },
     "execution_count": 20,
     "metadata": {},
     "output_type": "execute_result"
    }
   ],
   "source": [
    "type(npa)"
   ]
  },
  {
   "cell_type": "code",
   "execution_count": 21,
   "id": "c13568e2",
   "metadata": {},
   "outputs": [
    {
     "data": {
      "text/plain": [
       "1"
      ]
     },
     "execution_count": 21,
     "metadata": {},
     "output_type": "execute_result"
    }
   ],
   "source": [
    "npa[1]"
   ]
  },
  {
   "cell_type": "code",
   "execution_count": 19,
   "id": "e4ba07ac",
   "metadata": {},
   "outputs": [
    {
     "data": {
      "text/plain": [
       "9"
      ]
     },
     "execution_count": 19,
     "metadata": {},
     "output_type": "execute_result"
    }
   ],
   "source": [
    "## Trae el elemento de index 1, contando desde el final\n",
    "npa[-1]"
   ]
  },
  {
   "cell_type": "code",
   "execution_count": 10,
   "id": "2ee2e822",
   "metadata": {},
   "outputs": [
    {
     "data": {
      "text/plain": [
       "array([0., 0., 0., 0., 0., 0., 0., 0., 0., 0.])"
      ]
     },
     "execution_count": 10,
     "metadata": {},
     "output_type": "execute_result"
    }
   ],
   "source": [
    "np_cero = np.zeros(10)\n",
    "np_cero"
   ]
  },
  {
   "cell_type": "code",
   "execution_count": 11,
   "id": "8e1cf864",
   "metadata": {},
   "outputs": [
    {
     "data": {
      "text/plain": [
       "array([0, 0, 0, 0, 0, 0, 0, 0, 0, 0])"
      ]
     },
     "execution_count": 11,
     "metadata": {},
     "output_type": "execute_result"
    }
   ],
   "source": [
    "np_cero_int = np.zeros(10, dtype=int)\n",
    "np_cero_int"
   ]
  },
  {
   "cell_type": "code",
   "execution_count": 14,
   "id": "cb43ff9e",
   "metadata": {},
   "outputs": [
    {
     "data": {
      "text/plain": [
       "array([1, 1, 1, 1, 1, 1, 1, 1, 1, 1])"
      ]
     },
     "execution_count": 14,
     "metadata": {},
     "output_type": "execute_result"
    }
   ],
   "source": [
    "np_uno = np.ones(10, dtype=int)\n",
    "np_uno"
   ]
  },
  {
   "cell_type": "markdown",
   "id": "3315575a",
   "metadata": {},
   "source": [
    "**Ceros**"
   ]
  },
  {
   "cell_type": "code",
   "execution_count": 23,
   "id": "24a78fc3",
   "metadata": {},
   "outputs": [
    {
     "data": {
      "text/plain": [
       "array([0, 0, 0, 0, 0, 0, 0, 0, 0, 0, 0, 0, 0, 0, 0, 0, 0, 0, 0, 0])"
      ]
     },
     "execution_count": 23,
     "metadata": {},
     "output_type": "execute_result"
    }
   ],
   "source": [
    "v2 = np.zeros(20, dtype = int)\n",
    "v2"
   ]
  },
  {
   "cell_type": "markdown",
   "id": "00f4a8ce",
   "metadata": {},
   "source": [
    "**Unos**"
   ]
  },
  {
   "cell_type": "code",
   "execution_count": 27,
   "id": "5aaa4e10",
   "metadata": {},
   "outputs": [
    {
     "data": {
      "text/plain": [
       "array([1, 1, 1, 1, 1, 1, 1, 1, 1, 1, 1, 1, 1, 1, 1, 1, 1, 1, 1, 1])"
      ]
     },
     "execution_count": 27,
     "metadata": {},
     "output_type": "execute_result"
    }
   ],
   "source": [
    "v3 = np.ones(20, dtype=int)\n",
    "v3"
   ]
  },
  {
   "cell_type": "markdown",
   "id": "64c22f8a",
   "metadata": {},
   "source": [
    "**Random**"
   ]
  },
  {
   "cell_type": "code",
   "execution_count": 32,
   "id": "37441c2e",
   "metadata": {},
   "outputs": [
    {
     "data": {
      "text/plain": [
       "array([0.80079839, 0.46010998, 0.39953512, 0.56934401, 0.56359204,\n",
       "       0.58715515, 0.87988899, 0.80861404, 0.03566923, 0.62863049,\n",
       "       0.24849478, 0.80513408, 0.65644783, 0.23991645, 0.99699813,\n",
       "       0.05955837, 0.09527663, 0.43648543, 0.80111358, 0.63761606,\n",
       "       0.93168067, 0.39011858, 0.72697094, 0.58394952, 0.2183357 ,\n",
       "       0.17449174, 0.61488337, 0.8842103 , 0.81152898, 0.58697782])"
      ]
     },
     "execution_count": 32,
     "metadata": {},
     "output_type": "execute_result"
    }
   ],
   "source": [
    "np.random.random(30)"
   ]
  },
  {
   "cell_type": "code",
   "execution_count": 35,
   "id": "060e6b6e",
   "metadata": {},
   "outputs": [
    {
     "data": {
      "text/plain": [
       "dtype('int32')"
      ]
     },
     "execution_count": 35,
     "metadata": {},
     "output_type": "execute_result"
    }
   ],
   "source": [
    "v2.dtype"
   ]
  },
  {
   "cell_type": "markdown",
   "id": "95c29b4e",
   "metadata": {},
   "source": [
    "**Tipos de datos**"
   ]
  },
  {
   "cell_type": "code",
   "execution_count": 37,
   "id": "e69d1f24",
   "metadata": {},
   "outputs": [],
   "source": [
    "v1 = np.array(['Juan', 'Pedro'])"
   ]
  },
  {
   "cell_type": "code",
   "execution_count": 38,
   "id": "b7cbc325",
   "metadata": {},
   "outputs": [
    {
     "data": {
      "text/plain": [
       "array(['Juan', 'Pedro'], dtype='<U5')"
      ]
     },
     "execution_count": 38,
     "metadata": {},
     "output_type": "execute_result"
    }
   ],
   "source": [
    "v1"
   ]
  },
  {
   "cell_type": "code",
   "execution_count": 40,
   "id": "3a16d634",
   "metadata": {},
   "outputs": [
    {
     "data": {
      "text/plain": [
       "dtype('<U5')"
      ]
     },
     "execution_count": 40,
     "metadata": {},
     "output_type": "execute_result"
    }
   ],
   "source": [
    "## Nos muestra el tipo de dato <U5 -> Unicode versión 5\n",
    "v1.dtype"
   ]
  },
  {
   "cell_type": "code",
   "execution_count": 43,
   "id": "5a47e81e",
   "metadata": {},
   "outputs": [
    {
     "name": "stdout",
     "output_type": "stream",
     "text": [
      "[1.1 2.1 3.1]\n"
     ]
    },
    {
     "data": {
      "text/plain": [
       "dtype('float64')"
      ]
     },
     "execution_count": 43,
     "metadata": {},
     "output_type": "execute_result"
    }
   ],
   "source": [
    "arr = np.array([1.1, 2.1, 3.1])\n",
    "print(arr)\n",
    "arr.dtype"
   ]
  },
  {
   "cell_type": "code",
   "execution_count": 47,
   "id": "c8332b40",
   "metadata": {},
   "outputs": [
    {
     "name": "stdout",
     "output_type": "stream",
     "text": [
      "[1 2 3]\n"
     ]
    },
    {
     "data": {
      "text/plain": [
       "dtype('int32')"
      ]
     },
     "execution_count": 47,
     "metadata": {},
     "output_type": "execute_result"
    }
   ],
   "source": [
    "arr2 = arr.astype('i')\n",
    "print(arr2)\n",
    "arr2.dtype"
   ]
  },
  {
   "cell_type": "code",
   "execution_count": 51,
   "id": "7831f2b7",
   "metadata": {},
   "outputs": [
    {
     "data": {
      "text/plain": [
       "dtype('<U1')"
      ]
     },
     "execution_count": 51,
     "metadata": {},
     "output_type": "execute_result"
    }
   ],
   "source": [
    "v1 = np.array(['1','2','3'])\n",
    "v1.dtype"
   ]
  },
  {
   "cell_type": "code",
   "execution_count": 52,
   "id": "62f2b0a6",
   "metadata": {},
   "outputs": [
    {
     "data": {
      "text/plain": [
       "dtype('int32')"
      ]
     },
     "execution_count": 52,
     "metadata": {},
     "output_type": "execute_result"
    }
   ],
   "source": [
    "v2 = v.astype(int)\n",
    "v2.dtype"
   ]
  },
  {
   "cell_type": "markdown",
   "id": "3e4d5a49",
   "metadata": {},
   "source": [
    "**Operaciones básicas** \n",
    "##### Reshape, concatenación, splitting"
   ]
  },
  {
   "cell_type": "markdown",
   "id": "07e864a6",
   "metadata": {},
   "source": [
    "**Matrices** "
   ]
  },
  {
   "cell_type": "code",
   "execution_count": 60,
   "id": "52644229",
   "metadata": {},
   "outputs": [
    {
     "data": {
      "text/plain": [
       "array([[1, 2, 3],\n",
       "       [4, 5, 6]])"
      ]
     },
     "execution_count": 60,
     "metadata": {},
     "output_type": "execute_result"
    }
   ],
   "source": [
    "M = np.array([[1,2,3], [4,5,6]])\n",
    "M"
   ]
  },
  {
   "cell_type": "code",
   "execution_count": 61,
   "id": "0925cca5",
   "metadata": {},
   "outputs": [
    {
     "data": {
      "text/plain": [
       "(2, 3)"
      ]
     },
     "execution_count": 61,
     "metadata": {},
     "output_type": "execute_result"
    }
   ],
   "source": [
    "M.shape"
   ]
  },
  {
   "cell_type": "code",
   "execution_count": 66,
   "id": "4a863859",
   "metadata": {},
   "outputs": [
    {
     "data": {
      "text/plain": [
       "(10, 3)"
      ]
     },
     "execution_count": 66,
     "metadata": {},
     "output_type": "execute_result"
    }
   ],
   "source": [
    "v = np.ones([10,3])\n",
    "v.shape"
   ]
  },
  {
   "cell_type": "code",
   "execution_count": 70,
   "id": "aae0ed8c",
   "metadata": {},
   "outputs": [],
   "source": [
    "## Ejemplo celdas numeradas de un tablero de ajedrez\n",
    "v = np.arange(1,65)"
   ]
  },
  {
   "cell_type": "code",
   "execution_count": 69,
   "id": "6108b872",
   "metadata": {},
   "outputs": [
    {
     "data": {
      "text/plain": [
       "array([[ 1,  2,  3,  4,  5,  6,  7,  8],\n",
       "       [ 9, 10, 11, 12, 13, 14, 15, 16],\n",
       "       [17, 18, 19, 20, 21, 22, 23, 24],\n",
       "       [25, 26, 27, 28, 29, 30, 31, 32],\n",
       "       [33, 34, 35, 36, 37, 38, 39, 40],\n",
       "       [41, 42, 43, 44, 45, 46, 47, 48],\n",
       "       [49, 50, 51, 52, 53, 54, 55, 56],\n",
       "       [57, 58, 59, 60, 61, 62, 63, 64]])"
      ]
     },
     "execution_count": 69,
     "metadata": {},
     "output_type": "execute_result"
    }
   ],
   "source": [
    "ajedrez_64 = np.arange(1,65).reshape(8,8)\n",
    "ajedrez_64"
   ]
  },
  {
   "cell_type": "code",
   "execution_count": 75,
   "id": "600615c4",
   "metadata": {},
   "outputs": [
    {
     "data": {
      "text/plain": [
       "array([[[ 1,  2,  3,  4,  5,  6,  7,  8],\n",
       "        [ 9, 10, 11, 12, 13, 14, 15, 16]],\n",
       "\n",
       "       [[17, 18, 19, 20, 21, 22, 23, 24],\n",
       "        [25, 26, 27, 28, 29, 30, 31, 32]],\n",
       "\n",
       "       [[33, 34, 35, 36, 37, 38, 39, 40],\n",
       "        [41, 42, 43, 44, 45, 46, 47, 48]],\n",
       "\n",
       "       [[49, 50, 51, 52, 53, 54, 55, 56],\n",
       "        [57, 58, 59, 60, 61, 62, 63, 64]]])"
      ]
     },
     "execution_count": 75,
     "metadata": {},
     "output_type": "execute_result"
    }
   ],
   "source": [
    "v.reshape(4,2,8)"
   ]
  },
  {
   "cell_type": "markdown",
   "id": "18bc48f0",
   "metadata": {},
   "source": [
    "**Concatenación** "
   ]
  },
  {
   "cell_type": "code",
   "execution_count": 86,
   "id": "47b62d35",
   "metadata": {},
   "outputs": [
    {
     "data": {
      "text/plain": [
       "array([[1, 2, 3],\n",
       "       [4, 5, 6]])"
      ]
     },
     "execution_count": 86,
     "metadata": {},
     "output_type": "execute_result"
    }
   ],
   "source": [
    "v1 = np.array([[1,2,3],[4,5,6]])\n",
    "v2 = np.array([[7,8,9],[10,11,12]])\n",
    "v1"
   ]
  },
  {
   "cell_type": "code",
   "execution_count": 89,
   "id": "a27911f1",
   "metadata": {},
   "outputs": [
    {
     "data": {
      "text/plain": [
       "array([[ 1,  2,  3],\n",
       "       [ 4,  5,  6],\n",
       "       [ 7,  8,  9],\n",
       "       [10, 11, 12]])"
      ]
     },
     "execution_count": 89,
     "metadata": {},
     "output_type": "execute_result"
    }
   ],
   "source": [
    "np.concatenate([v1,v2], axis=0)"
   ]
  },
  {
   "cell_type": "code",
   "execution_count": 90,
   "id": "02c22a42",
   "metadata": {},
   "outputs": [
    {
     "data": {
      "text/plain": [
       "array([[ 1,  2,  3,  7,  8,  9],\n",
       "       [ 4,  5,  6, 10, 11, 12]])"
      ]
     },
     "execution_count": 90,
     "metadata": {},
     "output_type": "execute_result"
    }
   ],
   "source": [
    "np.concatenate([v1,v2], axis=1)"
   ]
  },
  {
   "cell_type": "code",
   "execution_count": 88,
   "id": "d95ba712",
   "metadata": {},
   "outputs": [
    {
     "data": {
      "text/plain": [
       "array([[ 1,  2,  3],\n",
       "       [ 4,  5,  6],\n",
       "       [ 7,  8,  9],\n",
       "       [10, 11, 12]])"
      ]
     },
     "execution_count": 88,
     "metadata": {},
     "output_type": "execute_result"
    }
   ],
   "source": [
    "np.vstack([v1,v2])"
   ]
  },
  {
   "cell_type": "code",
   "execution_count": 91,
   "id": "1d79b5c0",
   "metadata": {},
   "outputs": [
    {
     "data": {
      "text/plain": [
       "array([[ 1,  2,  3,  7,  8,  9],\n",
       "       [ 4,  5,  6, 10, 11, 12]])"
      ]
     },
     "execution_count": 91,
     "metadata": {},
     "output_type": "execute_result"
    }
   ],
   "source": [
    "np.hstack([v1,v2])"
   ]
  },
  {
   "cell_type": "markdown",
   "id": "605b511c",
   "metadata": {},
   "source": [
    "**Splitting** "
   ]
  },
  {
   "cell_type": "code",
   "execution_count": 94,
   "id": "ada0b81d",
   "metadata": {},
   "outputs": [],
   "source": [
    "v1 = np.array([0,6,5,4,3,1,8,0,0,3])"
   ]
  },
  {
   "cell_type": "code",
   "execution_count": 96,
   "id": "77a5d941",
   "metadata": {},
   "outputs": [
    {
     "name": "stdout",
     "output_type": "stream",
     "text": [
      "[array([0, 6]), array([5, 4, 3, 1, 8, 0, 0, 3])]\n"
     ]
    }
   ],
   "source": [
    "v1_partido = np.split(v1, [2])\n",
    "print(v1_partido)"
   ]
  },
  {
   "cell_type": "code",
   "execution_count": 97,
   "id": "af07edec",
   "metadata": {},
   "outputs": [
    {
     "name": "stdout",
     "output_type": "stream",
     "text": [
      "[array([0, 6]), array([5, 4, 3, 1, 8, 0]), array([0, 3])]\n"
     ]
    }
   ],
   "source": [
    "v1_partido2 = np.split(v1, [2,8])\n",
    "print(v1_partido2)"
   ]
  },
  {
   "cell_type": "code",
   "execution_count": 101,
   "id": "3a633595",
   "metadata": {},
   "outputs": [
    {
     "data": {
      "text/plain": [
       "[array([[ 1,  2,  3,  4],\n",
       "        [ 9, 10, 11, 12],\n",
       "        [17, 18, 19, 20],\n",
       "        [25, 26, 27, 28],\n",
       "        [33, 34, 35, 36],\n",
       "        [41, 42, 43, 44],\n",
       "        [49, 50, 51, 52],\n",
       "        [57, 58, 59, 60]]),\n",
       " array([[ 5,  6,  7,  8],\n",
       "        [13, 14, 15, 16],\n",
       "        [21, 22, 23, 24],\n",
       "        [29, 30, 31, 32],\n",
       "        [37, 38, 39, 40],\n",
       "        [45, 46, 47, 48],\n",
       "        [53, 54, 55, 56],\n",
       "        [61, 62, 63, 64]])]"
      ]
     },
     "execution_count": 101,
     "metadata": {},
     "output_type": "execute_result"
    }
   ],
   "source": [
    "ajedrez_split_1 = np.hsplit(ajedrez_64, [4])\n",
    "ajedrez_split_1"
   ]
  },
  {
   "cell_type": "code",
   "execution_count": 125,
   "id": "235c1f81",
   "metadata": {},
   "outputs": [
    {
     "data": {
      "text/plain": [
       "[array([[ 1,  2,  3,  4,  5,  6,  7,  8],\n",
       "        [ 9, 10, 11, 12, 13, 14, 15, 16],\n",
       "        [17, 18, 19, 20, 21, 22, 23, 24],\n",
       "        [25, 26, 27, 28, 29, 30, 31, 32]]),\n",
       " array([[33, 34, 35, 36, 37, 38, 39, 40],\n",
       "        [41, 42, 43, 44, 45, 46, 47, 48],\n",
       "        [49, 50, 51, 52, 53, 54, 55, 56],\n",
       "        [57, 58, 59, 60, 61, 62, 63, 64]])]"
      ]
     },
     "execution_count": 125,
     "metadata": {},
     "output_type": "execute_result"
    }
   ],
   "source": [
    "ajedrez_split_2 = np.vsplit(ajedrez_64, [4])\n",
    "ajedrez_split_2"
   ]
  },
  {
   "cell_type": "code",
   "execution_count": 127,
   "id": "f793eb37",
   "metadata": {},
   "outputs": [
    {
     "data": {
      "text/plain": [
       "array([[33, 34, 35, 36, 37, 38, 39, 40],\n",
       "       [41, 42, 43, 44, 45, 46, 47, 48],\n",
       "       [49, 50, 51, 52, 53, 54, 55, 56],\n",
       "       [57, 58, 59, 60, 61, 62, 63, 64]])"
      ]
     },
     "execution_count": 127,
     "metadata": {},
     "output_type": "execute_result"
    }
   ],
   "source": [
    "ajedrez_split_2[1]"
   ]
  },
  {
   "cell_type": "markdown",
   "id": "1af54b6f",
   "metadata": {},
   "source": [
    "**Agregaciones** "
   ]
  },
  {
   "cell_type": "code",
   "execution_count": 112,
   "id": "a698b3e3",
   "metadata": {},
   "outputs": [
    {
     "data": {
      "text/plain": [
       "array([ 1,  2,  3,  4,  5,  6,  7,  8,  9, 10, 11, 12, 13, 14, 15, 16, 17,\n",
       "       18, 19, 20, 21, 22, 23, 24, 25, 26, 27, 28, 29, 30, 31, 32, 33, 34,\n",
       "       35, 36, 37, 38, 39, 40, 41, 42, 43, 44, 45, 46, 47, 48, 49, 50, 51,\n",
       "       52, 53, 54, 55, 56, 57, 58, 59, 60, 61, 62, 63, 64])"
      ]
     },
     "execution_count": 112,
     "metadata": {},
     "output_type": "execute_result"
    }
   ],
   "source": [
    "v"
   ]
  },
  {
   "cell_type": "code",
   "execution_count": 113,
   "id": "88270ccf",
   "metadata": {},
   "outputs": [
    {
     "data": {
      "text/plain": [
       "32.5"
      ]
     },
     "execution_count": 113,
     "metadata": {},
     "output_type": "execute_result"
    }
   ],
   "source": [
    "v.mean()"
   ]
  },
  {
   "cell_type": "code",
   "execution_count": 114,
   "id": "f9337a3f",
   "metadata": {},
   "outputs": [
    {
     "data": {
      "text/plain": [
       "2080"
      ]
     },
     "execution_count": 114,
     "metadata": {},
     "output_type": "execute_result"
    }
   ],
   "source": [
    "v.sum()"
   ]
  },
  {
   "cell_type": "code",
   "execution_count": 115,
   "id": "cea89bdb",
   "metadata": {},
   "outputs": [
    {
     "data": {
      "text/plain": [
       "1"
      ]
     },
     "execution_count": 115,
     "metadata": {},
     "output_type": "execute_result"
    }
   ],
   "source": [
    "v.min()"
   ]
  },
  {
   "cell_type": "code",
   "execution_count": 116,
   "id": "94893d4e",
   "metadata": {},
   "outputs": [
    {
     "data": {
      "text/plain": [
       "32.5"
      ]
     },
     "execution_count": 116,
     "metadata": {},
     "output_type": "execute_result"
    }
   ],
   "source": [
    "np.median(v)"
   ]
  },
  {
   "cell_type": "markdown",
   "id": "f7e9a0d4",
   "metadata": {},
   "source": [
    "**Operaciones vectoriales** "
   ]
  },
  {
   "cell_type": "code",
   "execution_count": 117,
   "id": "efbf2490",
   "metadata": {},
   "outputs": [],
   "source": [
    "v1 = np.array([1,2,3])\n",
    "v2 = np.array([4,5,6])"
   ]
  },
  {
   "cell_type": "code",
   "execution_count": 118,
   "id": "6fb20f3d",
   "metadata": {},
   "outputs": [
    {
     "data": {
      "text/plain": [
       "array([5, 7, 9])"
      ]
     },
     "execution_count": 118,
     "metadata": {},
     "output_type": "execute_result"
    }
   ],
   "source": [
    "v1+v2"
   ]
  },
  {
   "cell_type": "code",
   "execution_count": 119,
   "id": "212ee611",
   "metadata": {},
   "outputs": [
    {
     "data": {
      "text/plain": [
       "array([ 4, 10, 18])"
      ]
     },
     "execution_count": 119,
     "metadata": {},
     "output_type": "execute_result"
    }
   ],
   "source": [
    "v1*v2"
   ]
  },
  {
   "cell_type": "code",
   "execution_count": 121,
   "id": "75750248",
   "metadata": {},
   "outputs": [
    {
     "data": {
      "text/plain": [
       "array([0.25, 0.4 , 0.5 ])"
      ]
     },
     "execution_count": 121,
     "metadata": {},
     "output_type": "execute_result"
    }
   ],
   "source": [
    "v1/v2"
   ]
  },
  {
   "cell_type": "code",
   "execution_count": 122,
   "id": "a73df760",
   "metadata": {},
   "outputs": [
    {
     "data": {
      "text/plain": [
       "32"
      ]
     },
     "execution_count": 122,
     "metadata": {},
     "output_type": "execute_result"
    }
   ],
   "source": [
    "## Producto vectorial\n",
    "np.matmul (v1,v2)"
   ]
  },
  {
   "cell_type": "code",
   "execution_count": null,
   "id": "7576fcb8",
   "metadata": {},
   "outputs": [],
   "source": []
  },
  {
   "cell_type": "code",
   "execution_count": null,
   "id": "3260f899",
   "metadata": {},
   "outputs": [],
   "source": []
  },
  {
   "cell_type": "code",
   "execution_count": null,
   "id": "ca7fa56b",
   "metadata": {},
   "outputs": [],
   "source": []
  }
 ],
 "metadata": {
  "kernelspec": {
   "display_name": "Python 3 (ipykernel)",
   "language": "python",
   "name": "python3"
  },
  "language_info": {
   "codemirror_mode": {
    "name": "ipython",
    "version": 3
   },
   "file_extension": ".py",
   "mimetype": "text/x-python",
   "name": "python",
   "nbconvert_exporter": "python",
   "pygments_lexer": "ipython3",
   "version": "3.9.13"
  }
 },
 "nbformat": 4,
 "nbformat_minor": 5
}
